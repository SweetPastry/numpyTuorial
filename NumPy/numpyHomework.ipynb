{
 "cells": [
  {
   "cell_type": "code",
   "execution_count": 2,
   "metadata": {},
   "outputs": [],
   "source": [
    "import numpy as np"
   ]
  },
  {
   "cell_type": "markdown",
   "metadata": {},
   "source": [
    "# Chapter1"
   ]
  },
  {
   "cell_type": "markdown",
   "metadata": {},
   "source": [
    "### Exercise 1-1"
   ]
  },
  {
   "cell_type": "code",
   "execution_count": 3,
   "metadata": {},
   "outputs": [
    {
     "name": "stdout",
     "output_type": "stream",
     "text": [
      "[-0.65511341 -0.4955438   0.96528327  0.00923427  0.08076224 -0.58993969\n",
      "  0.11638102  0.75574087  1.33862132  0.38703599 -0.44892892 -1.9982355\n",
      "  0.23690423  0.74845293  1.15694385  0.99202339 -0.13840546 -2.95443375\n",
      "  2.28964718  0.28473092]\n",
      "1 (20,) float64\n",
      "[-2.95443375 -1.9982355  -0.65511341 -0.58993969 -0.4955438  -0.44892892\n",
      " -0.13840546  0.00923427  0.08076224  0.11638102  0.23690423  0.28473092\n",
      "  0.38703599  0.74845293  0.75574087  0.96528327  0.99202339  1.15694385\n",
      "  1.33862132  2.28964718]\n",
      "[ 2.28964718  1.33862132  1.15694385  0.99202339  0.96528327  0.75574087\n",
      "  0.74845293  0.38703599  0.28473092  0.23690423  0.11638102  0.08076224\n",
      "  0.00923427 -0.13840546 -0.44892892 -0.4955438  -0.58993969 -0.65511341\n",
      " -1.9982355  -2.95443375]\n"
     ]
    }
   ],
   "source": [
    "a1 = np.random.randn(20)\n",
    "print(a1); print(a1.ndim, a1.shape, a1.dtype)\n",
    "a1.sort(); print(a1)\n",
    "a2 = a1[::-1]; print(a2)"
   ]
  },
  {
   "cell_type": "markdown",
   "metadata": {},
   "source": [
    "### Exsercise 1-2"
   ]
  },
  {
   "cell_type": "code",
   "execution_count": 4,
   "metadata": {},
   "outputs": [
    {
     "name": "stdout",
     "output_type": "stream",
     "text": [
      "[[[0 1]\n",
      "  [2 3]]\n",
      "\n",
      " [[4 5]\n",
      "  [6 7]]]\n",
      "3 (2, 2, 2) int32\n"
     ]
    }
   ],
   "source": [
    "a1 = np.array(range(8))\n",
    "a1.shape = (2, 2, 2)\n",
    "print(a1)\n",
    "print(a1.ndim, a1.shape, a1.dtype)"
   ]
  },
  {
   "cell_type": "markdown",
   "metadata": {},
   "source": [
    "### Quiz 1"
   ]
  },
  {
   "cell_type": "code",
   "execution_count": 5,
   "metadata": {},
   "outputs": [
    {
     "name": "stdout",
     "output_type": "stream",
     "text": [
      "[[[ 0  1  2]\n",
      "  [ 3  4  5]\n",
      "  [ 6  7  8]]\n",
      "\n",
      " [[ 9 10 11]\n",
      "  [12 13 14]\n",
      "  [15 16 17]]\n",
      "\n",
      " [[18 19 20]\n",
      "  [21 22 23]\n",
      "  [24 25 26]]]\n",
      "rank: 3 \n",
      "shape: (3, 3, 3) \n",
      "dtype: int32\n"
     ]
    }
   ],
   "source": [
    "a1 = np.array(range(27)).reshape(3, 3, 3)\n",
    "print(a1)\n",
    "print(\"rank:\", a1.ndim, \"\\nshape:\", a1.shape, \"\\ndtype:\", a1.dtype)"
   ]
  },
  {
   "cell_type": "markdown",
   "metadata": {},
   "source": [
    "# Chapter 2"
   ]
  },
  {
   "cell_type": "markdown",
   "metadata": {},
   "source": [
    "### Exercise 2-1"
   ]
  },
  {
   "cell_type": "code",
   "execution_count": 6,
   "metadata": {},
   "outputs": [
    {
     "name": "stdout",
     "output_type": "stream",
     "text": [
      "95\n",
      "[ 0  1  2  3  4  5  6  7  8  9 10 11 12 13 14 15 16 17 18 19 20 21 22 23\n",
      " 24 25 26 27 28 29]\n"
     ]
    }
   ],
   "source": [
    "a1 = np.array(range(100))\n",
    "print(a1[95])\n",
    "print(a1[:30])"
   ]
  },
  {
   "cell_type": "markdown",
   "metadata": {},
   "source": [
    "### Exercise 2-2"
   ]
  },
  {
   "cell_type": "code",
   "execution_count": 7,
   "metadata": {},
   "outputs": [
    {
     "name": "stdout",
     "output_type": "stream",
     "text": [
      "[[0 1 2]\n",
      " [3 4 5]\n",
      " [6 7 8]]\n",
      "a[1][1] = 4\n",
      "[[1]\n",
      " [4]\n",
      " [7]]\n"
     ]
    }
   ],
   "source": [
    "a1 = np.array(range(9)).reshape(3, 3); print(a1)\n",
    "print(\"a[1][1] =\", a1[1][1])\n",
    "print(a1[:, 1:2])"
   ]
  },
  {
   "cell_type": "markdown",
   "metadata": {},
   "source": [
    "### Exercise 2-3"
   ]
  },
  {
   "cell_type": "code",
   "execution_count": 8,
   "metadata": {},
   "outputs": [
    {
     "name": "stdout",
     "output_type": "stream",
     "text": [
      "[[1 2]\n",
      " [3 4]\n",
      " [5 6]]\n",
      "[[ 1  4]\n",
      " [ 3  8]\n",
      " [ 5 12]]\n",
      "[[ 0  3]\n",
      " [ 3  8]\n",
      " [ 5 12]]\n"
     ]
    }
   ],
   "source": [
    "a1 = np.array(range(6)).reshape(3, 2) + 1\n",
    "print(a1)\n",
    "\n",
    "a1[:, 1:2] = a1[:, 1:2] * 2\n",
    "print(a1)\n",
    "a1[0:1, :] = a1[0:1, :] - 1\n",
    "print(a1)"
   ]
  },
  {
   "cell_type": "markdown",
   "metadata": {},
   "source": [
    "###  Exercise 2-4"
   ]
  },
  {
   "cell_type": "code",
   "execution_count": 35,
   "metadata": {},
   "outputs": [],
   "source": [
    "# Skip this question"
   ]
  },
  {
   "cell_type": "markdown",
   "metadata": {},
   "source": [
    "### Exercise 2-5"
   ]
  },
  {
   "cell_type": "code",
   "execution_count": 9,
   "metadata": {},
   "outputs": [
    {
     "name": "stdout",
     "output_type": "stream",
     "text": [
      "[[0 1]\n",
      " [2 3]\n",
      " [4 5]]\n",
      "[[ 6  7]\n",
      " [ 8  9]\n",
      " [10 11]]\n",
      "[[ 0  7]\n",
      " [16 27]\n",
      " [40 55]]\n",
      "[[ 7  9 11]\n",
      " [33 43 53]\n",
      " [59 77 95]]\n",
      "[ 9. 43. 77.]\n",
      "[33. 43. 53.]\n"
     ]
    }
   ],
   "source": [
    "a1 = np.arange(6).reshape(3, 2)\n",
    "a2 = np.arange(start = 6, stop = 12).reshape(3, 2)\n",
    "\n",
    "print(a1); print(a2)\n",
    "\n",
    "print(a1 * a2)\n",
    "\n",
    "a3 = np.dot(a1, a2.transpose())\n",
    "print(a3)\n",
    "\n",
    "print(a3.mean(axis = 1))\n",
    "print(a3.mean(axis = 0))"
   ]
  },
  {
   "cell_type": "markdown",
   "metadata": {},
   "source": [
    "### Exercise 2-7"
   ]
  },
  {
   "cell_type": "code",
   "execution_count": 10,
   "metadata": {},
   "outputs": [
    {
     "name": "stdout",
     "output_type": "stream",
     "text": [
      "[[ 4  7  3  3  6]\n",
      " [ 5  2  7  6 10]\n",
      " [ 1  2  4  3  8]\n",
      " [ 0  1  9  1  3]\n",
      " [ 3  9  2  7  2]]\n",
      "[[0.4 0.7 0.3 0.3 0.6]\n",
      " [0.5 0.2 0.7 0.6 1. ]\n",
      " [0.1 0.2 0.4 0.3 0.8]\n",
      " [0.  0.1 0.9 0.1 0.3]\n",
      " [0.3 0.9 0.2 0.7 0.2]]\n"
     ]
    }
   ],
   "source": [
    "a1 = np.random.randint(0, 11, size = 25).reshape(5, 5)\n",
    "print(a1)\n",
    "\n",
    "a1_normalized = (a1 - a1.min()) / (a1.max() - a1.min())\n",
    "print(a1_normalized)"
   ]
  },
  {
   "cell_type": "markdown",
   "metadata": {},
   "source": [
    "### Exercise 2-8 "
   ]
  },
  {
   "cell_type": "code",
   "execution_count": 11,
   "metadata": {},
   "outputs": [
    {
     "name": "stdout",
     "output_type": "stream",
     "text": [
      "[1 2 3 4 5 8 9]\n",
      "[9 8 5 4 3 2 1]\n"
     ]
    }
   ],
   "source": [
    "arr = np.array([9, 8, 3, 5, 1, 4, 2])\n",
    "\n",
    "swap = lambda arr, i, j: (\n",
    "    arr.__setitem__(i, arr[i] ^ arr[j]),\n",
    "    arr.__setitem__(j, arr[i] ^ arr[j]),\n",
    "    arr.__setitem__(i, arr[i] ^ arr[j])\n",
    ")\n",
    "\n",
    "def bubble_sort_ascending(arr: np.array) -> np.array:\n",
    "    for i in range(len(arr)):\n",
    "        for j in range(len(arr) - i -1):\n",
    "            if arr[j] > arr[j + 1]:\n",
    "                swap(arr, j, j + 1)\n",
    "    return arr\n",
    "\n",
    "def bubble_sort_descending(arr: np.array) -> np.array:\n",
    "    for i in range(len(arr)):\n",
    "        for j in range(len(arr) - i -1):\n",
    "            if arr[j] < arr[j + 1]:\n",
    "                swap(arr, j, j + 1)\n",
    "    return arr\n",
    "\n",
    "print(bubble_sort_ascending(arr.copy()))\n",
    "print(bubble_sort_descending(arr.copy()))"
   ]
  },
  {
   "cell_type": "markdown",
   "metadata": {},
   "source": [
    "### Exerwcise 3-1"
   ]
  },
  {
   "cell_type": "code",
   "execution_count": 18,
   "metadata": {},
   "outputs": [
    {
     "name": "stdout",
     "output_type": "stream",
     "text": [
      "[['E1' 'M' '3' '1818' 'HIGHWAY' '' '2' 'N' 'THROUGH' 'WOOD' 'SHORT' 'S'\n",
      "  'WOOD']\n",
      " ['E2' 'A' '25' '1819' 'HIGHWAY' '1037' '2' 'N' 'THROUGH' 'WOOD' 'SHORT'\n",
      "  'S' 'WOOD']\n",
      " ['E3' 'A' '39' '1829' 'AQUEDUCT' '?' '1' 'N' 'THROUGH' 'WOOD' '?' 'S'\n",
      "  'WOOD']] \n",
      "\n",
      "[['E1' 'M' '3' '1818' 'HIGHWAY' '' '2' 'N' 'THROUGH' 'WOOD' 'SHORT' 'S'\n",
      "  'WOOD']\n",
      " ['E2' 'A' '25' '1819' 'HIGHWAY' '1037' '2' 'N' 'THROUGH' 'WOOD' 'SHORT'\n",
      "  'S' 'WOOD']\n",
      " ['E3' 'A' '39' '1829' 'AQUEDUCT' 'Unknown' '1' 'N' 'THROUGH' 'WOOD'\n",
      "  'Unknown' 'S' 'WOOD']]\n"
     ]
    }
   ],
   "source": [
    "data = np.genfromtxt('highway.csv', delimiter = ',' ,dtype = np.str_, missing_values = '?', filling_values = 'Unknown')\n",
    "\n",
    "print(data[0:3], '\\n')  # The arg 'missing_values' seems to be ineffective, manual replacement is performed as below\n",
    "\n",
    "data[data == '?'] = 'Unknown'\n",
    "print(data[0:3])"
   ]
  },
  {
   "cell_type": "markdown",
   "metadata": {},
   "source": [
    "### Exercise 3-2"
   ]
  },
  {
   "cell_type": "code",
   "execution_count": 25,
   "metadata": {},
   "outputs": [
    {
     "name": "stdout",
     "output_type": "stream",
     "text": [
      "(366, 35)\n",
      "[[ 2.  2.  0. ...  0. 55.  2.]\n",
      " [ 3.  3.  3. ...  0.  8.  1.]\n",
      " [ 2.  1.  2. ...  3. 26.  3.]\n",
      " ...\n",
      " [ 3.  2.  2. ...  3. 28.  3.]\n",
      " [ 2.  1.  3. ...  3. 50.  3.]\n",
      " [ 3.  2.  2. ...  0. 35.  1.]]\n",
      "(183, 34) (183, 34) (183,) (183,)\n"
     ]
    },
    {
     "name": "stderr",
     "output_type": "stream",
     "text": [
      "c:\\ProgramData\\anaconda3\\envs\\jupyter-notebook\\lib\\site-packages\\ipykernel_launcher.py:2: FutureWarning: elementwise comparison failed; returning scalar instead, but in the future will perform elementwise comparison\n",
      "  \n"
     ]
    }
   ],
   "source": [
    "data = np.genfromtxt('dermatology.csv', delimiter = ',', missing_values = '?', filling_values = 0)\n",
    "data[data == '?'] = 0\n",
    "\n",
    "print(data.shape); print(data)\n",
    "\n",
    "np.random.shuffle(data)\n",
    "\n",
    "X_data = data[:, 0:34]\n",
    "Y_data = data[:, -1]\n",
    "\n",
    "half_len = len(data) // 2\n",
    "\n",
    "X_train = X_data[:half_len]\n",
    "X_text = X_data[half_len:]\n",
    "Y_train = Y_data[:half_len]\n",
    "Y_text = Y_data[half_len:]\n",
    "\n",
    "print(X_train.shape, X_text.shape, Y_train.shape, Y_text.shape)"
   ]
  },
  {
   "cell_type": "markdown",
   "metadata": {},
   "source": [
    "### Quiz 3"
   ]
  },
  {
   "cell_type": "code",
   "execution_count": 33,
   "metadata": {},
   "outputs": [
    {
     "name": "stderr",
     "output_type": "stream",
     "text": [
      "c:\\ProgramData\\anaconda3\\envs\\jupyter-notebook\\lib\\site-packages\\ipykernel_launcher.py:2: FutureWarning: elementwise comparison failed; returning scalar instead, but in the future will perform elementwise comparison\n",
      "  \n"
     ]
    }
   ],
   "source": [
    "data = np.genfromtxt('dermatology.csv', delimiter = ',', missing_values = '?', filling_values = -1)\n",
    "data[data == '?'] = -1\n",
    "\n",
    "np.random.shuffle(data)\n",
    "\n",
    "X_data = data[:, :34] + 1\n",
    "normalize = lambda arr: (arr - arr.min()) / (arr.max() - arr.min())\n",
    "X_data = normalize(X_data)\n",
    "\n",
    "Y_data = data[:, -1]\n",
    "\n",
    "eighty_percentage = int(0.8 * len(data))\n",
    "\n",
    "X_train = X_data[:eighty_percentage]\n",
    "X_text = X_data[eighty_percentage:]\n",
    "Y_train = Y_data[:eighty_percentage]\n",
    "Y_text = Y_data[eighty_percentage:]"
   ]
  },
  {
   "cell_type": "markdown",
   "metadata": {},
   "source": [
    "### Quiz 4"
   ]
  },
  {
   "cell_type": "code",
   "execution_count": 34,
   "metadata": {},
   "outputs": [
    {
     "name": "stdout",
     "output_type": "stream",
     "text": [
      "[[ 5  5 13  4 12 11 14 11  0  0]\n",
      " [11  4  4 15 10 17 11  1 12 18]]\n",
      "\n",
      "[[ 9 17  1  8  4 19 18 13  7 11]\n",
      " [19  9  6 16 12  4 16  9  7 14]]\n",
      "\n",
      "[[ 5  5 13  4 12 11 14 11  0  0]\n",
      " [11  4  4 15 10 17 11  1 12 18]\n",
      " [ 9 17  1  8  4 19 18 13  7 11]\n",
      " [19  9  6 16 12  4 16  9  7 14]]\n",
      "\n",
      "[[ 5  5 13  4 12 11 14 11  0  0  9 17  1  8  4 19 18 13  7 11]\n",
      " [11  4  4 15 10 17 11  1 12 18 19  9  6 16 12  4 16  9  7 14]]\n",
      "\n",
      "[[ 5  5 13  4 12 11 14 11  0  0]\n",
      " [11  4  4 15 10 17 11  1 12 18]\n",
      " [ 9 17  1  8  4 19 18 13  7 11]\n",
      " [19  9  6 16 12  4 16  9  7 14]]\n",
      "\n",
      "[[ 5  5 13  4 12 11 14 11  0  0  9 17  1  8  4 19 18 13  7 11]\n",
      " [11  4  4 15 10 17 11  1 12 18 19  9  6 16 12  4 16  9  7 14]]\n",
      "\n"
     ]
    }
   ],
   "source": [
    "arr1, arr2 = np.split(np.random.randint(0, 20, size = 40).reshape(4, 10), indices_or_sections = 2, axis = 0)\n",
    "\n",
    "print(arr1); print(); print(arr2); print()\n",
    "\n",
    "arr_vstack = np.vstack((arr1, arr2))\n",
    "print(arr_vstack); print()\n",
    "\n",
    "arr_hstack = np.hstack((arr1, arr2))\n",
    "print(arr_hstack); print()\n",
    "\n",
    "\n",
    "# np.concatenate() is an option\n",
    "arr_vstack_concatenate = np.concatenate((arr1, arr2), axis = 0)\n",
    "print(arr_vstack_concatenate); print()\n",
    "\n",
    "arr_hstack_concatenate = np.concatenate((arr1, arr2), axis = 1)\n",
    "print(arr_hstack_concatenate); print()"
   ]
  }
 ],
 "metadata": {
  "kernelspec": {
   "display_name": "Python 3 (ipykernel)",
   "language": "python",
   "name": "python3"
  },
  "language_info": {
   "codemirror_mode": {
    "name": "ipython",
    "version": 3
   },
   "file_extension": ".py",
   "mimetype": "text/x-python",
   "name": "python",
   "nbconvert_exporter": "python",
   "pygments_lexer": "ipython3",
   "version": "3.7.12"
  },
  "toc": {
   "base_numbering": 1,
   "nav_menu": {},
   "number_sections": true,
   "sideBar": true,
   "skip_h1_title": false,
   "title_cell": "Table of Contents",
   "title_sidebar": "Contents",
   "toc_cell": false,
   "toc_position": {},
   "toc_section_display": true,
   "toc_window_display": false
  },
  "varInspector": {
   "cols": {
    "lenName": 16,
    "lenType": 16,
    "lenVar": 40
   },
   "kernels_config": {
    "python": {
     "delete_cmd_postfix": "",
     "delete_cmd_prefix": "del ",
     "library": "var_list.py",
     "varRefreshCmd": "print(var_dic_list())"
    },
    "r": {
     "delete_cmd_postfix": ") ",
     "delete_cmd_prefix": "rm(",
     "library": "var_list.r",
     "varRefreshCmd": "cat(var_dic_list()) "
    }
   },
   "types_to_exclude": [
    "module",
    "function",
    "builtin_function_or_method",
    "instance",
    "_Feature"
   ],
   "window_display": false
  }
 },
 "nbformat": 4,
 "nbformat_minor": 2
}
