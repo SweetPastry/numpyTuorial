{
 "cells": [
  {
   "cell_type": "markdown",
   "metadata": {},
   "source": [
    "# Advanced NumPy\n",
    "- Importing datasets\n",
    "    - loadtxt\n",
    "    - genfromtxt\n",
    "- Processing data\n",
    "    - Splitting data\n",
    "- Summarizing data"
   ]
  },
  {
   "cell_type": "code",
   "execution_count": 1,
   "metadata": {},
   "outputs": [],
   "source": [
    "import numpy as np"
   ]
  },
  {
   "cell_type": "markdown",
   "metadata": {},
   "source": [
    "## 1. More on array manipulation\n",
    "- Flattening arrays\n",
    "- Extending arrays\n",
    "- Splitting arrays"
   ]
  },
  {
   "cell_type": "markdown",
   "metadata": {},
   "source": [
    "### Flattening arrays\n",
    "- ```flatten()``` converts multi-dimensional array into one-dimensional array (with same elements)"
   ]
  },
  {
   "cell_type": "code",
   "execution_count": 3,
   "metadata": {},
   "outputs": [
    {
     "name": "stdout",
     "output_type": "stream",
     "text": [
      "[[ 1  5]\n",
      " [ 7  9]\n",
      " [12  6]]\n",
      "Shape of original array:  (3, 2)\n",
      "[ 1  5  7  9 12  6]\n",
      "Shape of flattened array:  (6,)\n"
     ]
    }
   ],
   "source": [
    "# flatten example\n",
    "arr = np.array([[1, 5], [7, 9], [12, 6]])\n",
    "print(arr)\n",
    "print('Shape of original array: ', arr.shape)\n",
    "arr = arr.flatten()\n",
    "print(arr)\n",
    "print('Shape of flattened array: ', arr.shape)"
   ]
  },
  {
   "cell_type": "code",
   "execution_count": 6,
   "metadata": {},
   "outputs": [
    {
     "name": "stdout",
     "output_type": "stream",
     "text": [
      "[[ 1  5]\n",
      " [ 7  9]\n",
      " [12  6]]\n",
      "Shape of original array:  (3, 2)\n",
      "[ 1  5  7  9 12  6]\n",
      "Shape of flattened array:  (6,)\n"
     ]
    }
   ],
   "source": [
    "# above code is idential to below\n",
    "arr = np.array([[1, 5], [7, 9], [12, 6]])\n",
    "print(arr)\n",
    "print('Shape of original array: ', arr.shape)\n",
    "arr = arr.reshape(6)\n",
    "print(arr)\n",
    "print('Shape of flattened array: ', arr.shape)"
   ]
  },
  {
   "cell_type": "markdown",
   "metadata": {},
   "source": [
    "### Extending arrays\n",
    "- ```newaxis```: adds another axis (with size 1) to array\n",
    "- ```tile()```: add another axis (while repeating original array) to array"
   ]
  },
  {
   "cell_type": "code",
   "execution_count": 5,
   "metadata": {},
   "outputs": [
    {
     "name": "stdout",
     "output_type": "stream",
     "text": [
      "(4,)\n",
      "(4, 1)\n",
      "(1, 4)\n",
      "\n",
      "[[1]\n",
      " [2]\n",
      " [3]\n",
      " [4]]\n",
      "\n",
      "[[1 2 3 4]]\n"
     ]
    }
   ],
   "source": [
    "# newaxis example\n",
    "arr = np.array([1, 2, 3, 4])\n",
    "print(arr.shape)\n",
    "arr_ = arr[:, np.newaxis]     # add new axis to second dimension\n",
    "print(arr_.shape)\n",
    "arr__ = arr[np.newaxis, :]    # add new axis to first dimension\n",
    "print(arr__.shape)\n",
    "print()\n",
    "print(arr_)\n",
    "print()\n",
    "print(arr__)"
   ]
  },
  {
   "cell_type": "code",
   "execution_count": 7,
   "metadata": {},
   "outputs": [
    {
     "name": "stdout",
     "output_type": "stream",
     "text": [
      "(8,)\n",
      "(2, 12)\n",
      "\n",
      "[1 2 3 4 1 2 3 4]\n",
      "\n",
      "[[1 2 3 4 1 2 3 4 1 2 3 4]\n",
      " [1 2 3 4 1 2 3 4 1 2 3 4]]\n"
     ]
    }
   ],
   "source": [
    "# tile example\n",
    "arr = np.array([1, 2, 3, 4])\n",
    "arr_ = np.tile(arr, 2)\n",
    "print(arr_.shape)\n",
    "arr__ = np.tile(arr, (2, 3))    # repeat 2 on axis 0, 3 on axis 1\n",
    "print(arr__.shape)\n",
    "print()\n",
    "print(arr_)\n",
    "print()\n",
    "print(arr__)"
   ]
  },
  {
   "cell_type": "markdown",
   "metadata": {},
   "source": [
    "### Splitting arrays"
   ]
  },
  {
   "cell_type": "code",
   "execution_count": 9,
   "metadata": {},
   "outputs": [
    {
     "name": "stdout",
     "output_type": "stream",
     "text": [
      "[0 1 2 3 4 5 6 7]\n",
      "[array([0, 1]), array([2, 3]), array([4, 5]), array([6, 7])]\n"
     ]
    }
   ],
   "source": [
    "# splitting into sub-arrays\n",
    "arr = np.arange(8)\n",
    "print(arr)\n",
    "arr_split = np.array_split(arr, 4)\n",
    "print(arr_split)"
   ]
  },
  {
   "cell_type": "code",
   "execution_count": 10,
   "metadata": {},
   "outputs": [
    {
     "name": "stdout",
     "output_type": "stream",
     "text": [
      "[[ 0  1  2]\n",
      " [ 3  4  5]\n",
      " [ 6  7  8]\n",
      " [ 9 10 11]]\n",
      "[array([[0, 1, 2]]), array([[3, 4, 5]]), array([[6, 7, 8]]), array([[ 9, 10, 11]])]\n",
      "[array([[0],\n",
      "       [3],\n",
      "       [6],\n",
      "       [9]]), array([[ 1],\n",
      "       [ 4],\n",
      "       [ 7],\n",
      "       [10]]), array([[ 2],\n",
      "       [ 5],\n",
      "       [ 8],\n",
      "       [11]])]\n"
     ]
    }
   ],
   "source": [
    "# splitting 2-D arrays\n",
    "arr = np.arange(12).reshape((4, 3))\n",
    "print(arr)\n",
    "arr_split = np.array_split(arr, 4, axis = 0)    # splitting over axis 0 => this is default\n",
    "print(arr_split)\n",
    "arr_split = np.array_split(arr, 3, axis = 1)    # splitting over axis 1\n",
    "print(arr_split)"
   ]
  },
  {
   "cell_type": "markdown",
   "metadata": {},
   "source": [
    "## 2. Broadcasting\n",
    "- Broadcasting is at the heart of matrix operations in ```NumPy```\n",
    "    - Broadcasting essentially means **\"copying\"** smaller array and performing **\"implicit loops\" **\n",
    "- Vectorized operations are performed using C, instead of Python when broadcasting"
   ]
  },
  {
   "cell_type": "code",
   "execution_count": 11,
   "metadata": {},
   "outputs": [
    {
     "name": "stdout",
     "output_type": "stream",
     "text": [
      "[2 4 6 8]\n"
     ]
    }
   ],
   "source": [
    "# trivial example\n",
    "s = 2\n",
    "arr = np.array([1, 2, 3, 4]) \n",
    "result = arr * s       # scalar 2 is \"broadcasted\" to all elements in array\n",
    "print(result)"
   ]
  },
  {
   "cell_type": "markdown",
   "metadata": {},
   "source": [
    "### Efficiency of vectorized operation using implicit for-loop\n",
    "- Let's see how much broadcasting is faster compared to explicit Python for-loop"
   ]
  },
  {
   "cell_type": "code",
   "execution_count": 12,
   "metadata": {},
   "outputs": [
    {
     "name": "stdout",
     "output_type": "stream",
     "text": [
      "Wall time: 2.99 ms\n"
     ]
    }
   ],
   "source": [
    "%%time\n",
    "a1 = np.arange(1000000)\n",
    "a1 = a1 * 2"
   ]
  },
  {
   "cell_type": "code",
   "execution_count": 13,
   "metadata": {},
   "outputs": [
    {
     "name": "stdout",
     "output_type": "stream",
     "text": [
      "Wall time: 568 ms\n"
     ]
    }
   ],
   "source": [
    "%%time\n",
    "a2 = np.arange(1000000)\n",
    "for i in range(1000000):\n",
    "    a2[i] = a2[i] * 2"
   ]
  },
  {
   "cell_type": "markdown",
   "metadata": {},
   "source": [
    "### Broadcasting rules\n",
    "- Ground rules\n",
    "    - All NumPy operations are *element-wise*, as default\n",
    "    - When operation is performed on two arrays, shape of each array is compared element-wise.\n",
    "    - Shape comparison starts from trailing dimension (axis = 0), and walks in increasing direction (0 => 1 => 2 => ...)\n",
    "    - Two dimensions are compatible when\n",
    "        - they are equal, or\n",
    "        - one of them is 1 (in this case array with dimension 1 is copied to match the bigger one)\n",
    "- Broadcasting \n",
    "    - Compare shape of two arrays from the back (the trailing dimension) to first dimension\n",
    "    - If one array is bigger than another array in terms of dimension (i.e., shape), left-pad the shape of smaller array with 1\n",
    "    - If ground rules are satisfied, broadcasting works. Shape of resulting array is equal to shape of bigger array (smaller array is \"copied\" repeatedly and operation is performed)\n",
    "    \n",
    "- **Example**: consider 2 arrays, ```A``` and ```B```\n",
    "```ruby\n",
    "A.shape = (4 X 5)\n",
    "B.shape = (    5)\n",
    "```\n",
    "First, left-pad smaller array (```B```) with 1\n",
    "```ruby\n",
    "A.shape = (4 X 5)\n",
    "B.shape = (1 X 5)\n",
    "```\n",
    "Trailing dimensions match (5), and first dimension of ```B``` has size 1, so broadcasting works. ```B``` is repeated 5 times and element-wise operation is fulfilled\n",
    "\n",
    "- **Example 2**: consider 2 arrays, ```C``` and ```D```\n",
    "```ruby\n",
    "C.shape = (3 X 4 X 5)\n",
    "D.shape = (    4 X 5)\n",
    "```\n",
    "First, left-pad smaller array (```D```) with 1\n",
    "```ruby\n",
    "C.shape = (3 X 4 X 5)\n",
    "D.shape = (1 X 4 X 5)\n",
    "```\n",
    "Last two dimensions match (4 X 5), and first dimension of ```D``` has size 1, so broadcasting works. ```D``` is repeated 3 times and element-wise operation is fulfilled\n",
    "\n",
    "- **Example 3**: consider 2 arrays, ```E``` and ```F```\n",
    "```ruby\n",
    "E.shape = (2 X 3 X 5)\n",
    "F.shape = (        3)\n",
    "```\n",
    "First, left-pad smaller array (```F```) with 1\n",
    "```ruby\n",
    "E.shape = (2 X 3 X 5)\n",
    "F.shape = (1 X 1 X 3)\n",
    "```\n",
    "As trailing dimensions do not match, broadcasting does not work"
   ]
  },
  {
   "cell_type": "code",
   "execution_count": 14,
   "metadata": {},
   "outputs": [
    {
     "name": "stdout",
     "output_type": "stream",
     "text": [
      "(3,)\n",
      "(2, 3)\n",
      "[[ 5  7  9]\n",
      " [ 8 10 12]]\n"
     ]
    }
   ],
   "source": [
    "arr1 = np.array([1, 2, 3])\n",
    "print(arr1.shape)\n",
    "arr2 = np.array([[4, 5, 6], [7, 8, 9]])\n",
    "print(arr2.shape)\n",
    "arr3 = arr1 + arr2\n",
    "print(arr3)"
   ]
  },
  {
   "cell_type": "markdown",
   "metadata": {},
   "source": [
    "## Quiz 4.\n",
    "- Create two 2-dimensional arrays of random integers, both with shape (2, 10).\n",
    "- Try two different ways of concatenation: (append one after the other / merge side by side)."
   ]
  },
  {
   "cell_type": "code",
   "execution_count": null,
   "metadata": {},
   "outputs": [],
   "source": [
    "## Your answer\n"
   ]
  }
 ],
 "metadata": {
  "kernelspec": {
   "display_name": "Python 3 (ipykernel)",
   "language": "python",
   "name": "python3"
  },
  "language_info": {
   "codemirror_mode": {
    "name": "ipython",
    "version": 3
   },
   "file_extension": ".py",
   "mimetype": "text/x-python",
   "name": "python",
   "nbconvert_exporter": "python",
   "pygments_lexer": "ipython3",
   "version": "3.7.12"
  },
  "toc": {
   "base_numbering": 1,
   "nav_menu": {},
   "number_sections": true,
   "sideBar": true,
   "skip_h1_title": false,
   "title_cell": "Table of Contents",
   "title_sidebar": "Contents",
   "toc_cell": false,
   "toc_position": {},
   "toc_section_display": true,
   "toc_window_display": false
  },
  "varInspector": {
   "cols": {
    "lenName": 16,
    "lenType": 16,
    "lenVar": 40
   },
   "kernels_config": {
    "python": {
     "delete_cmd_postfix": "",
     "delete_cmd_prefix": "del ",
     "library": "var_list.py",
     "varRefreshCmd": "print(var_dic_list())"
    },
    "r": {
     "delete_cmd_postfix": ") ",
     "delete_cmd_prefix": "rm(",
     "library": "var_list.r",
     "varRefreshCmd": "cat(var_dic_list()) "
    }
   },
   "types_to_exclude": [
    "module",
    "function",
    "builtin_function_or_method",
    "instance",
    "_Feature"
   ],
   "window_display": false
  }
 },
 "nbformat": 4,
 "nbformat_minor": 4
}
